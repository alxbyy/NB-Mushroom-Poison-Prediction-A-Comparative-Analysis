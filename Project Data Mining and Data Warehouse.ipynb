{
 "cells": [
  {
   "cell_type": "code",
   "execution_count": 68,
   "id": "b19b7f3f",
   "metadata": {},
   "outputs": [],
   "source": [
    "import pandas as pd\n",
    "import numpy as np\n",
    "import matplotlib.pyplot as plt\n",
    "import seaborn as sns\n",
    "from sklearn import preprocessing\n",
    "from sklearn.naive_bayes import BernoulliNB, GaussianNB\n",
    "from sklearn.metrics import classification_report, confusion_matrix\n",
    "from sklearn.model_selection import train_test_split"
   ]
  },
  {
   "cell_type": "code",
   "execution_count": 4,
   "id": "4489fab4",
   "metadata": {},
   "outputs": [],
   "source": [
    "dataset = pd.read_csv('C:/Users/Alexander Bryan/mushroom_dataset_new.csv')"
   ]
  },
  {
   "cell_type": "code",
   "execution_count": 5,
   "id": "bbfb7bff",
   "metadata": {},
   "outputs": [
    {
     "name": "stdout",
     "output_type": "stream",
     "text": [
      "(8416, 22)\n"
     ]
    }
   ],
   "source": [
    "print(dataset.shape)"
   ]
  },
  {
   "cell_type": "code",
   "execution_count": 7,
   "id": "25be74a1",
   "metadata": {},
   "outputs": [],
   "source": [
    "dataset = dataset.drop_duplicates()"
   ]
  },
  {
   "cell_type": "code",
   "execution_count": 8,
   "id": "db2e7028",
   "metadata": {},
   "outputs": [
    {
     "name": "stdout",
     "output_type": "stream",
     "text": [
      "(8124, 22)\n"
     ]
    }
   ],
   "source": [
    "print(dataset.shape)"
   ]
  },
  {
   "cell_type": "code",
   "execution_count": 9,
   "id": "5d946eb1",
   "metadata": {},
   "outputs": [
    {
     "name": "stdout",
     "output_type": "stream",
     "text": [
      "CONVEX     3656\n",
      "FLAT       3152\n",
      "KNOBBED     828\n",
      "BELL        452\n",
      "SUNKEN       32\n",
      "CONICAL       4\n",
      "Name: cap-shape, dtype: int64\n",
      "SCALY      3244\n",
      "SMOOTH     2556\n",
      "FIBROUS    2320\n",
      "GROOVES       4\n",
      "Name: cap-surface, dtype: int64\n",
      "BROWN       2284\n",
      "GRAY        1840\n",
      "RED         1500\n",
      "YELLOW      1072\n",
      "WHITE       1040\n",
      "BUFF         168\n",
      "PINK         144\n",
      "CINNAMON      44\n",
      "PURPLE        16\n",
      "GREEN         16\n",
      "Name: cap-color, dtype: int64\n",
      "NO         4748\n",
      "BRUISES    3376\n",
      "Name: bruises, dtype: int64\n",
      "NONE        3528\n",
      "FOUL        2160\n",
      "FISHY        576\n",
      "SPICY        576\n",
      "ALMOND       400\n",
      "ANISE        400\n",
      "PUNGENT      256\n",
      "CREOSOTE     192\n",
      "MUSTY         36\n",
      "Name: odor, dtype: int64\n",
      "FREE        7914\n",
      "ATTACHED     210\n",
      "Name: gill-attachment, dtype: int64\n",
      "CLOSE      6812\n",
      "CROWDED    1312\n",
      "Name: gill-spacing, dtype: int64\n",
      "BROAD     5612\n",
      "NARROW    2512\n",
      "Name: gill-size, dtype: int64\n",
      "BUFF         1728\n",
      "PINK         1492\n",
      "WHITE        1202\n",
      "BROWN        1048\n",
      "GRAY          752\n",
      "CHOCOLATE     732\n",
      "PURPLE        492\n",
      "BLACK         408\n",
      "RED            96\n",
      "YELLOW         86\n",
      "ORANGE         64\n",
      "GREEN          24\n",
      "Name: gill-color, dtype: int64\n",
      "TAPERING     4608\n",
      "ENLARGING    3516\n",
      "Name: stalk-shape, dtype: int64\n",
      "BULBOUS    3776\n",
      "?          2480\n",
      "EQUAL      1120\n",
      "CLUB        556\n",
      "ROOTED      192\n",
      "Name: stalk-root, dtype: int64\n",
      "SMOOTH     5176\n",
      "SILKY      2372\n",
      "FIBROUS     552\n",
      "SCALY        24\n",
      "Name: stalk-surface-above-ring, dtype: int64\n",
      "SMOOTH     4936\n",
      "SILKY      2304\n",
      "FIBROUS     600\n",
      "SCALY       284\n",
      "Name: stalk-surface-below-ring, dtype: int64\n",
      "WHITE       4464\n",
      "PINK        1872\n",
      "GRAY         576\n",
      "BROWN        448\n",
      "BUFF         432\n",
      "ORANGE       192\n",
      "RED           96\n",
      "CINNAMON      36\n",
      "YELLOW         8\n",
      "Name: stalk-color-above-ring, dtype: int64\n",
      "WHITE       4384\n",
      "PINK        1872\n",
      "GRAY         576\n",
      "BROWN        512\n",
      "BUFF         432\n",
      "ORANGE       192\n",
      "RED           96\n",
      "CINNAMON      36\n",
      "YELLOW        24\n",
      "Name: stalk-color-below-ring, dtype: int64\n",
      "WHITE     7924\n",
      "ORANGE      96\n",
      "BROWN       96\n",
      "YELLOW       8\n",
      "Name: veil-color, dtype: int64\n",
      "ONE     7488\n",
      "TWO      600\n",
      "NONE      36\n",
      "Name: ring-number, dtype: int64\n",
      "PENDANT       3968\n",
      "EVANESCENT    2776\n",
      "LARGE         1296\n",
      "FLARING         48\n",
      "NONE            36\n",
      "Name: ring-type, dtype: int64\n",
      "WHITE        2388\n",
      "BROWN        1968\n",
      "BLACK        1872\n",
      "CHOCOLATE    1632\n",
      "GREEN          72\n",
      "PURPLE         48\n",
      "YELLOW         48\n",
      "ORANGE         48\n",
      "BUFF           48\n",
      "Name: spore-print-color, dtype: int64\n",
      "SEVERAL      4040\n",
      "SOLITARY     1712\n",
      "SCATTERED    1248\n",
      "NUMEROUS      400\n",
      "ABUNDANT      384\n",
      "CLUSTERED     340\n",
      "Name: population, dtype: int64\n",
      "WOODS      3148\n",
      "GRASSES    2148\n",
      "PATHS      1144\n",
      "LEAVES      832\n",
      "URBAN       368\n",
      "MEADOWS     292\n",
      "WASTE       192\n",
      "Name: habitat, dtype: int64\n",
      "EDIBLE       4208\n",
      "POISONOUS    3916\n",
      "Name: mushroom, dtype: int64\n"
     ]
    }
   ],
   "source": [
    "for col in dataset:\n",
    "    print(dataset[col].value_counts())"
   ]
  },
  {
   "cell_type": "code",
   "execution_count": 10,
   "id": "cd4d0e8c",
   "metadata": {},
   "outputs": [
    {
     "name": "stdout",
     "output_type": "stream",
     "text": [
      "Index(['cap-shape', 'cap-surface', 'cap-color', 'bruises', 'odor',\n",
      "       'gill-attachment', 'gill-spacing', 'gill-size', 'gill-color',\n",
      "       'stalk-shape', 'stalk-root', 'stalk-surface-above-ring',\n",
      "       'stalk-surface-below-ring', 'stalk-color-above-ring',\n",
      "       'stalk-color-below-ring', 'veil-color', 'ring-number', 'ring-type',\n",
      "       'spore-print-color', 'population', 'habitat', 'mushroom'],\n",
      "      dtype='object') (8124, 22)\n"
     ]
    }
   ],
   "source": [
    "print(dataset.columns, dataset.shape)"
   ]
  },
  {
   "cell_type": "code",
   "execution_count": 11,
   "id": "e2e4ab01",
   "metadata": {},
   "outputs": [
    {
     "name": "stdout",
     "output_type": "stream",
     "text": [
      "Index(['cap-shape', 'cap-surface', 'cap-color', 'bruises', 'odor',\n",
      "       'gill-attachment', 'gill-spacing', 'gill-size', 'gill-color',\n",
      "       'stalk-shape', 'stalk-surface-above-ring', 'stalk-surface-below-ring',\n",
      "       'stalk-color-above-ring', 'stalk-color-below-ring', 'veil-color',\n",
      "       'ring-number', 'ring-type', 'spore-print-color', 'population',\n",
      "       'habitat', 'mushroom'],\n",
      "      dtype='object') (8124, 21)\n"
     ]
    }
   ],
   "source": [
    "dataset.pop(\"stalk-root\")\n",
    "print(dataset.columns, dataset.shape)"
   ]
  },
  {
   "cell_type": "code",
   "execution_count": 16,
   "id": "745fd547",
   "metadata": {},
   "outputs": [
    {
     "name": "stdout",
     "output_type": "stream",
     "text": [
      "EDIBLE       4208\n",
      "POISONOUS    3916\n",
      "Name: mushroom, dtype: int64\n",
      "EDIBLE       4208\n",
      "POISONOUS    3916\n",
      "Name: mushroom, dtype: int64\n"
     ]
    }
   ],
   "source": [
    "print(dataset[\"mushroom\"].value_counts())\n",
    "dataset.replace(\"EDIBLE\", \"EDIBLE\", inplace = True)\n",
    "dataset.replace(\"POISONOUS\", \"POISONOUS\", inplace = True)\n",
    "dataset. replace(\"POISONOUS\", \"POISONOUS\", inplace = True)\n",
    "print(dataset[\"mushroom\"].value_counts())"
   ]
  },
  {
   "cell_type": "code",
   "execution_count": 17,
   "id": "b126ff47",
   "metadata": {},
   "outputs": [
    {
     "name": "stdout",
     "output_type": "stream",
     "text": [
      "Index(['cap-shape', 'cap-surface', 'cap-color', 'bruises', 'gill-attachment',\n",
      "       'gill-spacing', 'gill-size', 'gill-color', 'stalk-shape',\n",
      "       'stalk-surface-above-ring', 'stalk-surface-below-ring',\n",
      "       'stalk-color-above-ring', 'stalk-color-below-ring', 'veil-color',\n",
      "       'ring-number', 'ring-type', 'spore-print-color', 'mushroom'],\n",
      "      dtype='object') (8124, 18)\n"
     ]
    }
   ],
   "source": [
    "dataset.pop(\"population\")\n",
    "dataset.pop(\"habitat\")\n",
    "dataset.pop(\"odor\")\n",
    "print(dataset.columns, dataset.shape)"
   ]
  },
  {
   "cell_type": "code",
   "execution_count": 19,
   "id": "e1c71b36",
   "metadata": {},
   "outputs": [
    {
     "name": "stdout",
     "output_type": "stream",
     "text": [
      "[2 3 0 5 4 1]\n",
      "[3 0 2 1]\n",
      "[8 9 0 3 7 5 6 4 1 2]\n",
      "[0 1]\n",
      "[1 0]\n",
      "[1 0]\n",
      "[1 0]\n",
      "[10  7  1  4  0  3  8  5  9  2 11  6]\n",
      "[1 0]\n",
      "[3 0 2 1]\n",
      "[3 1 0 2]\n",
      "[7 5 3 1 0 6 2 8 4]\n",
      "[7 5 3 1 0 6 8 2 4]\n",
      "[2 3 1 0]\n",
      "[1 2 0]\n",
      "[4 0 2 1 3]\n",
      "[6 1 0 3 4 7 8 5 2]\n",
      "[0 1]\n"
     ]
    }
   ],
   "source": [
    "LE = preprocessing.LabelEncoder()\n",
    "\n",
    "for col in dataset:\n",
    "    dataset[col] = LE.fit_transform(dataset[col])\n",
    "\n",
    "for col in dataset:\n",
    "    print(dataset[col].unique())"
   ]
  },
  {
   "cell_type": "code",
   "execution_count": 64,
   "id": "01b819f0",
   "metadata": {},
   "outputs": [
    {
     "name": "stdout",
     "output_type": "stream",
     "text": [
      "              precision    recall  f1-score   support\n",
      "\n",
      "           0       0.96      0.87      0.91      1355\n",
      "           1       0.85      0.95      0.90      1083\n",
      "\n",
      "    accuracy                           0.90      2438\n",
      "   macro avg       0.90      0.91      0.90      2438\n",
      "weighted avg       0.91      0.90      0.91      2438\n",
      "\n"
     ]
    },
    {
     "data": {
      "image/png": "[encoded data removed]",
      "text/plain": [
       "<Figure size 432x288 with 2 Axes>"
      ]
     },
     "metadata": {
      "needs_background": "light"
     },
     "output_type": "display_data"
    }
   ],
   "source": [
    "arrData = dataset.values\n",
    "\n",
    "ciriFisik = arrData[:,:-1]\n",
    "edibleORnot = arrData[:,-1]\n",
    "\n",
    "XTrain, XTest, YTrain, YTest = train_test_split(ciriFisik, edibleORnot, test_size = 0.3, random_state = 0)\n",
    "\n",
    "classifier = BernoulliNB()\n",
    "classifier.fit(XTrain, YTrain)\n",
    "\n",
    "YPred = classifier.predict(XTest)\n",
    "\n",
    "print(classification_report(YPred, YTest))\n",
    "\n",
    "cm = confusion_matrix(YTest, YPred)\n",
    "sns.heatmap(cm, annot=True, fmt='d', cmap='copper', xticklabels=['0', '1'], yticklabels=['0', '1'])\n",
    "plt.xlabel('Predicted')\n",
    "plt.ylabel('Actual')\n",
    "plt.title('Algoritma Bernoulli Naive Bayes Split Data 70:30')\n",
    "plt.show()"
   ]
  },
  {
   "cell_type": "code",
   "execution_count": 65,
   "id": "d201f304",
   "metadata": {},
   "outputs": [
    {
     "name": "stdout",
     "output_type": "stream",
     "text": [
      "              precision    recall  f1-score   support\n",
      "\n",
      "           0       0.95      0.87      0.91      1128\n",
      "           1       0.86      0.95      0.90       903\n",
      "\n",
      "    accuracy                           0.91      2031\n",
      "   macro avg       0.91      0.91      0.91      2031\n",
      "weighted avg       0.91      0.91      0.91      2031\n",
      "\n"
     ]
    },
    {
     "data": {
      "image/png": "[encoded data removed]",
      "text/plain": [
       "<Figure size 432x288 with 2 Axes>"
      ]
     },
     "metadata": {
      "needs_background": "light"
     },
     "output_type": "display_data"
    }
   ],
   "source": [
    "arrData = dataset.values\n",
    "\n",
    "ciriFisik = arrData[:,:-1]\n",
    "edibleORnot = arrData[:,-1]\n",
    "\n",
    "XTrain, XTest, YTrain, YTest = train_test_split(ciriFisik, edibleORnot, test_size = 0.25, random_state = 0)\n",
    "\n",
    "classifier = BernoulliNB()\n",
    "classifier.fit(XTrain, YTrain)\n",
    "\n",
    "YPred = classifier.predict(XTest)\n",
    "\n",
    "print(classification_report(YPred, YTest))\n",
    "\n",
    "cm = confusion_matrix(YTest, YPred)\n",
    "sns.heatmap(cm, annot=True, fmt='d', cmap='copper', xticklabels=['0', '1'], yticklabels=['0', '1'])\n",
    "plt.xlabel('Predicted')\n",
    "plt.ylabel('Actual')\n",
    "plt.title('Algoritma Bernoulli Naive Bayes Split Data 75:25')\n",
    "plt.show()"
   ]
  },
  {
   "cell_type": "code",
   "execution_count": 69,
   "id": "1204bc8b",
   "metadata": {},
   "outputs": [
    {
     "name": "stdout",
     "output_type": "stream",
     "text": [
      "              precision    recall  f1-score   support\n",
      "\n",
      "           0       0.95      0.87      0.91       896\n",
      "           1       0.86      0.95      0.90       729\n",
      "\n",
      "    accuracy                           0.91      1625\n",
      "   macro avg       0.91      0.91      0.91      1625\n",
      "weighted avg       0.91      0.91      0.91      1625\n",
      "\n"
     ]
    },
    {
     "data": {
      "image/png": "[encoded data removed]",
      "text/plain": [
       "<Figure size 432x288 with 2 Axes>"
      ]
     },
     "metadata": {
      "needs_background": "light"
     },
     "output_type": "display_data"
    }
   ],
   "source": [
    "arrData = dataset.values\n",
    "\n",
    "ciriFisik = arrData[:,:-1]\n",
    "edibleORnot = arrData[:,-1]\n",
    "\n",
    "XTrain, XTest, YTrain, YTest = train_test_split(ciriFisik, edibleORnot, test_size = 0.2, random_state = 0)\n",
    "\n",
    "classifier = BernoulliNB()\n",
    "classifier.fit(XTrain, YTrain)\n",
    "\n",
    "YPred = classifier.predict(XTest)\n",
    "\n",
    "print(classification_report(YPred, YTest))\n",
    "\n",
    "cm = confusion_matrix(YTest, YPred)\n",
    "sns.heatmap(cm, annot=True, fmt='d', cmap='copper', xticklabels=['0', '1'], yticklabels=['0', '1'])\n",
    "plt.xlabel('Predicted')\n",
    "plt.ylabel('Actual')\n",
    "plt.title('Algoritma Bernoulli Naive Bayes Split Data 80:20')\n",
    "plt.show()"
   ]
  },
  {
   "cell_type": "code",
   "execution_count": 70,
   "id": "68386c57",
   "metadata": {},
   "outputs": [
    {
     "name": "stdout",
     "output_type": "stream",
     "text": [
      "              precision    recall  f1-score   support\n",
      "\n",
      "           0       0.91      0.88      0.90      1278\n",
      "           1       0.87      0.91      0.89      1160\n",
      "\n",
      "    accuracy                           0.89      2438\n",
      "   macro avg       0.89      0.89      0.89      2438\n",
      "weighted avg       0.89      0.89      0.89      2438\n",
      "\n"
     ]
    },
    {
     "data": {
      "image/png": "[encoded data removed]",
      "text/plain": [
       "<Figure size 432x288 with 2 Axes>"
      ]
     },
     "metadata": {
      "needs_background": "light"
     },
     "output_type": "display_data"
    }
   ],
   "source": [
    "arrData = dataset.values\n",
    "\n",
    "ciriFisik = arrData[:,:-1]\n",
    "edibleORnot = arrData[:,-1]\n",
    "\n",
    "XTrain, XTest, YTrain, YTest = train_test_split(ciriFisik, edibleORnot, test_size = 0.3, random_state = 0)\n",
    "\n",
    "classifier = GaussianNB()\n",
    "classifier.fit(XTrain, YTrain)\n",
    "\n",
    "YPred = classifier.predict(XTest)\n",
    "\n",
    "print(classification_report(YPred, YTest))\n",
    "\n",
    "cm = confusion_matrix(YTest, YPred)\n",
    "sns.heatmap(cm, annot=True, fmt='d', cmap='copper', xticklabels=['0', '1'], yticklabels=['0', '1'])\n",
    "plt.xlabel('Predicted')\n",
    "plt.ylabel('Actual')\n",
    "plt.title('Algoritma Gaussian Naive Bayes Split Data 70:30')\n",
    "plt.show()"
   ]
  },
  {
   "cell_type": "code",
   "execution_count": 71,
   "id": "9b41f745",
   "metadata": {},
   "outputs": [
    {
     "name": "stdout",
     "output_type": "stream",
     "text": [
      "              precision    recall  f1-score   support\n",
      "\n",
      "           0       0.92      0.88      0.90      1075\n",
      "           1       0.87      0.91      0.89       956\n",
      "\n",
      "    accuracy                           0.90      2031\n",
      "   macro avg       0.89      0.90      0.89      2031\n",
      "weighted avg       0.90      0.90      0.90      2031\n",
      "\n"
     ]
    },
    {
     "data": {
      "image/png": "[encoded data removed]",
      "text/plain": [
       "<Figure size 432x288 with 2 Axes>"
      ]
     },
     "metadata": {
      "needs_background": "light"
     },
     "output_type": "display_data"
    }
   ],
   "source": [
    "arrData = dataset.values\n",
    "\n",
    "ciriFisik = arrData[:,:-1]\n",
    "edibleORnot = arrData[:,-1]\n",
    "\n",
    "XTrain, XTest, YTrain, YTest = train_test_split(ciriFisik, edibleORnot, test_size = 0.25, random_state = 0)\n",
    "\n",
    "classifier = GaussianNB()\n",
    "classifier.fit(XTrain, YTrain)\n",
    "\n",
    "YPred = classifier.predict(XTest)\n",
    "\n",
    "print(classification_report(YPred, YTest))\n",
    "\n",
    "cm = confusion_matrix(YTest, YPred)\n",
    "sns.heatmap(cm, annot=True, fmt='d', cmap='copper', xticklabels=['0', '1'], yticklabels=['0', '1'])\n",
    "plt.xlabel('Predicted')\n",
    "plt.ylabel('Actual')\n",
    "plt.title('Algoritma Gaussian Naive Bayes Split Data 75:25')\n",
    "plt.show()"
   ]
  },
  {
   "cell_type": "code",
   "execution_count": 72,
   "id": "6bbfbd53",
   "metadata": {},
   "outputs": [
    {
     "name": "stdout",
     "output_type": "stream",
     "text": [
      "              precision    recall  f1-score   support\n",
      "\n",
      "           0       0.92      0.88      0.90       852\n",
      "           1       0.87      0.91      0.89       773\n",
      "\n",
      "    accuracy                           0.90      1625\n",
      "   macro avg       0.90      0.90      0.90      1625\n",
      "weighted avg       0.90      0.90      0.90      1625\n",
      "\n"
     ]
    },
    {
     "data": {
      "image/png": "[encoded data removed]",
      "text/plain": [
       "<Figure size 432x288 with 2 Axes>"
      ]
     },
     "metadata": {
      "needs_background": "light"
     },
     "output_type": "display_data"
    }
   ],
   "source": [
    "arrData = dataset.values\n",
    "\n",
    "ciriFisik = arrData[:,:-1]\n",
    "edibleORnot = arrData[:,-1]\n",
    "\n",
    "XTrain, XTest, YTrain, YTest = train_test_split(ciriFisik, edibleORnot, test_size = 0.2, random_state = 0)\n",
    "\n",
    "classifier = GaussianNB()\n",
    "classifier.fit(XTrain, YTrain)\n",
    "\n",
    "YPred = classifier.predict(XTest)\n",
    "\n",
    "print(classification_report(YPred, YTest))\n",
    "\n",
    "cm = confusion_matrix(YTest, YPred)\n",
    "sns.heatmap(cm, annot=True, fmt='d', cmap='copper', xticklabels=['0', '1'], yticklabels=['0', '1'])\n",
    "plt.xlabel('Predicted')\n",
    "plt.ylabel('Actual')\n",
    "plt.title('Algoritma Gaussian Naive Bayes Split Data 80:20')\n",
    "plt.show()"
   ]
  },
  {
   "cell_type": "code",
   "execution_count": null,
   "id": "3944c6d6",
   "metadata": {},
   "outputs": [],
   "source": []
  }
 ],
 "metadata": {
  "kernelspec": {
   "display_name": "Python 3 (ipykernel)",
   "language": "python",
   "name": "python3"
  },
  "language_info": {
   "codemirror_mode": {
    "name": "ipython",
    "version": 3
   },
   "file_extension": ".py",
   "mimetype": "text/x-python",
   "name": "python",
   "nbconvert_exporter": "python",
   "pygments_lexer": "ipython3",
   "version": "3.9.12"
  }
 },
 "nbformat": 4,
 "nbformat_minor": 5
}
